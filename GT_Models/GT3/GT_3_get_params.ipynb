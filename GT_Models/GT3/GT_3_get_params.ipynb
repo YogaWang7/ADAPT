{
 "cells": [
  {
   "cell_type": "code",
   "execution_count": 169,
   "outputs": [
    {
     "name": "stdout",
     "output_type": "stream",
     "text": [
      "The autoreload extension is already loaded. To reload it, use:\n",
      "  %reload_ext autoreload\n"
     ]
    }
   ],
   "source": [
    "%load_ext autoreload\n",
    "%autoreload 2"
   ],
   "metadata": {
    "collapsed": false
   }
  },
  {
   "cell_type": "markdown",
   "source": [
    "# 0. Intro\n",
    "1. Use InferNet to generate params values required by GT3.\n",
    "# 1. Preparations\n",
    "## 1.1 Global"
   ],
   "metadata": {
    "collapsed": false
   }
  },
  {
   "cell_type": "code",
   "execution_count": 170,
   "outputs": [],
   "source": [
    "import torch\n",
    "\n",
    "import numpy as np\n",
    "import random\n",
    "import pandas as pd\n",
    "\n",
    "from MLP.models import MLP_GT3_2\n",
    "from importlib import reload\n",
    "\n",
    "from MLP.my_collate_fn import my_collate_fn_InferNet\n",
    "from torch.utils.data import DataLoader, SequentialSampler\n",
    "from MLP.mydataset_GT2 import myDataset\n",
    "\n",
    "from MLP.Config import config_GT_gen\n",
    "reload(config_GT_gen)\n",
    "device = torch.device('cuda:0' if torch.cuda.is_available() else 'cpu')\n",
    "\n",
    "bound_alpha = torch.tensor([-0.3,0.3],device=device)\n",
    "bound_labda = torch.tensor([0.01,18],device=device)\n",
    "\n",
    "opt = config_GT_gen.DefaultConfig()"
   ],
   "metadata": {
    "collapsed": false
   }
  },
  {
   "cell_type": "markdown",
   "source": [
    "## 1.2 相关path"
   ],
   "metadata": {
    "collapsed": false
   }
  },
  {
   "cell_type": "code",
   "execution_count": 171,
   "outputs": [
    {
     "name": "stdout",
     "output_type": "stream",
     "text": [
      "seed= 407\n",
      "arti= False\n",
      "GT_w_Params= 3\n"
     ]
    }
   ],
   "source": [
    "def setup_seed(seed):\n",
    "    torch.manual_seed(seed)\n",
    "    torch.cuda.manual_seed_all(seed)\n",
    "    np.random.seed(seed)\n",
    "    random.seed(seed)\n",
    "    torch.backends.cudnn.deterministic = True\n",
    "\n",
    "setup_seed(opt.seed)\n",
    "\n",
    "dataset = myDataset(opt.train_path, opt.target_path_metric, opt.target_path_loss, opt.params_opitim_path,opt.data_key_path, opt.NLL_metric_path)\n",
    "\n",
    "data_idx = np.arange(0,dataset.__len__()).tolist()\n",
    "print(\"seed=\",opt.seed)\n",
    "print(\"arti=\",opt.ARTIFICIAL)\n",
    "print(\"GT_w_Params=\",opt.GT_w_Params)"
   ],
   "metadata": {
    "collapsed": false
   }
  },
  {
   "cell_type": "markdown",
   "source": [
    "# 2. dataloader"
   ],
   "metadata": {
    "collapsed": false
   }
  },
  {
   "cell_type": "code",
   "execution_count": 172,
   "outputs": [],
   "source": [
    "data_loader = DataLoader(dataset=dataset, batch_size=1, shuffle=False, num_workers=0, drop_last=False, sampler=SequentialSampler(data_idx), collate_fn=my_collate_fn_InferNet)"
   ],
   "metadata": {
    "collapsed": false
   }
  },
  {
   "cell_type": "markdown",
   "source": [
    "# 3. Load and Generate"
   ],
   "metadata": {
    "collapsed": false
   }
  },
  {
   "cell_type": "code",
   "execution_count": 1,
   "outputs": [
    {
     "ename": "NameError",
     "evalue": "name 'MLP_GT3_2' is not defined",
     "output_type": "error",
     "traceback": [
      "\u001B[1;31m---------------------------------------------------------------------------\u001B[0m",
      "\u001B[1;31mNameError\u001B[0m                                 Traceback (most recent call last)",
      "\u001B[1;32m~\\AppData\\Local\\Temp\\ipykernel_14344\\201260594.py\u001B[0m in \u001B[0;36m<module>\u001B[1;34m\u001B[0m\n\u001B[1;32m----> 1\u001B[1;33m \u001B[0mmlp\u001B[0m \u001B[1;33m=\u001B[0m \u001B[0mMLP_GT3_2\u001B[0m\u001B[1;33m(\u001B[0m\u001B[1;33m)\u001B[0m\u001B[1;33m\u001B[0m\u001B[1;33m\u001B[0m\u001B[0m\n\u001B[0m\u001B[0;32m      2\u001B[0m \u001B[0mmodel_data\u001B[0m \u001B[1;33m=\u001B[0m \u001B[0mtorch\u001B[0m\u001B[1;33m.\u001B[0m\u001B[0mload\u001B[0m\u001B[1;33m(\u001B[0m\u001B[0mopt\u001B[0m\u001B[1;33m.\u001B[0m\u001B[0mmodel_params_MLP\u001B[0m\u001B[1;33m)\u001B[0m\u001B[1;33m\u001B[0m\u001B[1;33m\u001B[0m\u001B[0m\n\u001B[0;32m      3\u001B[0m \u001B[0mmlp\u001B[0m\u001B[1;33m.\u001B[0m\u001B[0mload_state_dict\u001B[0m\u001B[1;33m(\u001B[0m\u001B[0mmodel_data\u001B[0m\u001B[1;33m)\u001B[0m\u001B[1;33m\u001B[0m\u001B[1;33m\u001B[0m\u001B[0m\n\u001B[0;32m      4\u001B[0m \u001B[0mmlp\u001B[0m \u001B[1;33m=\u001B[0m \u001B[0mmlp\u001B[0m\u001B[1;33m.\u001B[0m\u001B[0mto\u001B[0m\u001B[1;33m(\u001B[0m\u001B[0mdevice\u001B[0m\u001B[1;33m=\u001B[0m\u001B[0mdevice\u001B[0m\u001B[1;33m)\u001B[0m\u001B[1;33m\u001B[0m\u001B[1;33m\u001B[0m\u001B[0m\n",
      "\u001B[1;31mNameError\u001B[0m: name 'MLP_GT3_2' is not defined"
     ]
    }
   ],
   "source": [
    "mlp = MLP_GT3_2()\n",
    "model_data = torch.load(opt.model_params_MLP)\n",
    "mlp.load_state_dict(model_data)\n",
    "mlp = mlp.to(device=device)"
   ],
   "metadata": {
    "collapsed": false
   }
  },
  {
   "cell_type": "code",
   "execution_count": 174,
   "outputs": [],
   "source": [
    "if opt.GT_w_Params == 2:\n",
    "    params_arr = np.array([0.]*(dataset.__len__()*2)).reshape(-1,2)\n",
    "    params = pd.DataFrame(params_arr,columns = ['alpha','labda'])\n",
    "elif opt.GT_w_Params == 3:\n",
    "    params_arr = np.array([0.]*(dataset.__len__()*1)).reshape(-1,1)\n",
    "    params = pd.DataFrame(params_arr,columns = ['alpha'])"
   ],
   "metadata": {
    "collapsed": false
   }
  },
  {
   "cell_type": "code",
   "execution_count": 175,
   "outputs": [
    {
     "name": "stdout",
     "output_type": "stream",
     "text": [
      "Done\n",
      "      alpha\n",
      "0  0.001608\n",
      "1  0.000522\n",
      "2  0.000522\n",
      "3  0.000522\n",
      "4  0.000522\n"
     ]
    }
   ],
   "source": [
    "model=mlp.eval()\n",
    "if opt.GT_w_Params == 2:\n",
    "    for batch_id, data in enumerate(data_loader):\n",
    "\n",
    "        input_data, _,_, _, _, _= data\n",
    "        # Do the inference\n",
    "        input_data = input_data.to(device)\n",
    "\n",
    "        Alpha, Labda = mlp(input_data)\n",
    "\n",
    "        Alpha = Alpha.detach().cpu().numpy()\n",
    "        Labda = Labda.detach().cpu().numpy()\n",
    "\n",
    "        params.loc[batch_id,'alpha'] = Alpha\n",
    "        params.loc[batch_id,'labda'] = Labda\n",
    "\n",
    "if opt.GT_w_Params == 3:\n",
    "    for batch_id, data in enumerate(data_loader):\n",
    "\n",
    "        input_data, _,_, _, _, _= data\n",
    "        # Do the inference\n",
    "        input_data = input_data.to(device)\n",
    "\n",
    "        Alpha= mlp(input_data)\n",
    "\n",
    "        Alpha = Alpha.detach().cpu().numpy()\n",
    "\n",
    "        params.loc[batch_id,'alpha'] = Alpha\n",
    "\n",
    "print(\"Done\")\n",
    "print(params.head())"
   ],
   "metadata": {
    "collapsed": false
   }
  },
  {
   "cell_type": "markdown",
   "source": [
    "- save"
   ],
   "metadata": {
    "collapsed": false
   }
  },
  {
   "cell_type": "code",
   "execution_count": 176,
   "outputs": [
    {
     "name": "stdout",
     "output_type": "stream",
     "text": [
      "../../data/SA_PT/params_GT3_seed=407.csv\n"
     ]
    }
   ],
   "source": [
    "print(opt.params_gen_path)"
   ],
   "metadata": {
    "collapsed": false
   }
  },
  {
   "cell_type": "code",
   "execution_count": 177,
   "outputs": [],
   "source": [
    "params.to_csv(opt.params_gen_path,encoding=\"utf-8\", header=True,index=False)"
   ],
   "metadata": {
    "collapsed": false
   }
  }
 ],
 "metadata": {
  "kernelspec": {
   "display_name": "Python 3",
   "language": "python",
   "name": "python3"
  },
  "language_info": {
   "codemirror_mode": {
    "name": "ipython",
    "version": 2
   },
   "file_extension": ".py",
   "mimetype": "text/x-python",
   "name": "python",
   "nbconvert_exporter": "python",
   "pygments_lexer": "ipython2",
   "version": "2.7.6"
  }
 },
 "nbformat": 4,
 "nbformat_minor": 0
}
