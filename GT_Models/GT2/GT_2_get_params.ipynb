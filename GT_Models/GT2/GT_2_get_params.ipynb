{
 "cells": [
  {
   "cell_type": "code",
   "execution_count": 93,
   "outputs": [
    {
     "name": "stdout",
     "output_type": "stream",
     "text": [
      "The autoreload extension is already loaded. To reload it, use:\n",
      "  %reload_ext autoreload\n"
     ]
    }
   ],
   "source": [
    "\n",
    "%load_ext autoreload\n",
    "%autoreload 2"
   ],
   "metadata": {
    "collapsed": false
   }
  },
  {
   "cell_type": "markdown",
   "source": [
    "# 0. Intro\n",
    "1. Use InferNet to generate params values required by GT2.\n",
    "2. Output those values for calculating (part of) input of MB-MDN.\n",
    "# 1. Preparations\n",
    "## 1.1 Global"
   ],
   "metadata": {
    "collapsed": false
   }
  },
  {
   "cell_type": "code",
   "execution_count": 102,
   "outputs": [],
   "source": [
    "import torch\n",
    "import numpy as np\n",
    "import random\n",
    "import pandas as pd\n",
    "\n",
    "from MLP.models import MLP_2_1\n",
    "from importlib import reload\n",
    "\n",
    "from MLP.my_collate_fn import my_collate_fn_InferNet\n",
    "from torch.utils.data import DataLoader, SequentialSampler\n",
    "from MLP.mydataset_GT2 import myDataset\n",
    "\n",
    "from MLP.Config import config_GT_gen\n",
    "reload(config_GT_gen)\n",
    "device = torch.device('cuda:0' if torch.cuda.is_available() else 'cpu')\n",
    "\n",
    "bound_alpha = torch.tensor([-0.3,0.3],device=device)\n",
    "bound_labda = torch.tensor([0.01,18],device=device)\n",
    "\n",
    "opt = config_GT_gen.DefaultConfig()"
   ],
   "metadata": {
    "collapsed": false
   }
  },
  {
   "cell_type": "markdown",
   "source": [
    "## 1.2 相关path"
   ],
   "metadata": {
    "collapsed": false
   }
  },
  {
   "cell_type": "code",
   "execution_count": 103,
   "outputs": [
    {
     "name": "stdout",
     "output_type": "stream",
     "text": [
      "seed= 4\n",
      "arti= True\n"
     ]
    }
   ],
   "source": [
    "def setup_seed(seed):\n",
    "    torch.manual_seed(seed)\n",
    "    torch.cuda.manual_seed_all(seed)\n",
    "    np.random.seed(seed)\n",
    "    random.seed(seed)\n",
    "    torch.backends.cudnn.deterministic = True\n",
    "\n",
    "setup_seed(opt.seed)\n",
    "\n",
    "dataset = myDataset(opt.train_path, opt.target_path_metric, opt.target_path_loss, opt.params_opitim_path,opt.data_key_path, opt.NLL_metric_path)\n",
    "\n",
    "\n",
    "data_idx = np.arange(0,dataset.__len__()).tolist()\n",
    "print(\"seed=\",opt.seed)\n",
    "print(\"arti=\",opt.ARTIFICIAL)"
   ],
   "metadata": {
    "collapsed": false
   }
  },
  {
   "cell_type": "markdown",
   "source": [
    "# 2. dataloader\n",
    "1."
   ],
   "metadata": {
    "collapsed": false
   }
  },
  {
   "cell_type": "code",
   "execution_count": 104,
   "outputs": [],
   "source": [
    "data_loader = DataLoader(dataset=dataset, batch_size=1, shuffle=False, num_workers=0, drop_last=False, sampler=SequentialSampler(data_idx), collate_fn=my_collate_fn_InferNet)"
   ],
   "metadata": {
    "collapsed": false
   }
  },
  {
   "cell_type": "markdown",
   "source": [
    "# 3. Load and Generate"
   ],
   "metadata": {
    "collapsed": false
   }
  },
  {
   "cell_type": "code",
   "execution_count": 105,
   "outputs": [],
   "source": [
    "if opt.ARTIFICIAL:\n",
    "    mlp = MLP_2_1()\n",
    "else:\n",
    "    mlp = MLP_2_1()\n",
    "model_data = torch.load(opt.model_params_MLP)\n",
    "mlp.load_state_dict(model_data)\n",
    "mlp = mlp.to(device=device)"
   ],
   "metadata": {
    "collapsed": false
   }
  },
  {
   "cell_type": "code",
   "execution_count": 106,
   "outputs": [],
   "source": [
    "params_arr = np.array([0.]*(dataset.__len__()*2)).reshape(-1,2)\n",
    "params = pd.DataFrame(params_arr,columns = ['alpha','labda'])"
   ],
   "metadata": {
    "collapsed": false
   }
  },
  {
   "cell_type": "code",
   "execution_count": 107,
   "outputs": [
    {
     "name": "stdout",
     "output_type": "stream",
     "text": [
      "Done\n",
      "      alpha     labda\n",
      "0  0.094390  0.746689\n",
      "1  0.220394  0.953212\n",
      "2  0.138472  0.961662\n",
      "3  0.205837  1.214306\n",
      "4  0.199331  0.885956\n"
     ]
    }
   ],
   "source": [
    "model=mlp.eval()\n",
    "for batch_id, data in enumerate(data_loader):\n",
    "\n",
    "    input_data, _,_, _, _, _= data\n",
    "    # Do the inference\n",
    "    input_data = input_data.to(device)\n",
    "\n",
    "    Alpha, Labda = mlp(input_data)\n",
    "\n",
    "    Alpha = Alpha.detach().cpu().numpy()\n",
    "    Labda = Labda.detach().cpu().numpy()\n",
    "\n",
    "    params.loc[batch_id,'alpha'] = Alpha\n",
    "    params.loc[batch_id,'labda'] = Labda\n",
    "\n",
    "print(\"Done\")\n",
    "print(params.head())"
   ],
   "metadata": {
    "collapsed": false
   }
  },
  {
   "cell_type": "markdown",
   "source": [
    "- save"
   ],
   "metadata": {
    "collapsed": false
   }
  },
  {
   "cell_type": "code",
   "execution_count": 108,
   "outputs": [
    {
     "name": "stdout",
     "output_type": "stream",
     "text": [
      "../../data/SA_PT/params_artificial_v2_noise=0.05_seed=4.csv\n"
     ]
    }
   ],
   "source": [
    "print(opt.params_gen_path)"
   ],
   "metadata": {
    "collapsed": false
   }
  },
  {
   "cell_type": "code",
   "execution_count": 109,
   "outputs": [],
   "source": [
    "params.to_csv(opt.params_gen_path,encoding=\"utf-8\", header=True,index=False)\n"
   ],
   "metadata": {
    "collapsed": false
   }
  }
 ],
 "metadata": {
  "kernelspec": {
   "display_name": "Python 3",
   "language": "python",
   "name": "python3"
  },
  "language_info": {
   "codemirror_mode": {
    "name": "ipython",
    "version": 2
   },
   "file_extension": ".py",
   "mimetype": "text/x-python",
   "name": "python",
   "nbconvert_exporter": "python",
   "pygments_lexer": "ipython2",
   "version": "2.7.6"
  }
 },
 "nbformat": 4,
 "nbformat_minor": 0
}
