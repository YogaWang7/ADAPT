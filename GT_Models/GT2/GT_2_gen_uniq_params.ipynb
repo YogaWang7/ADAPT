{
 "cells": [
  {
   "cell_type": "markdown",
   "source": [
    "# 0. What for\n",
    "1. Use the params values to calculate U and P which is (part of) input of MB-MDN.\n",
    "2. The \"the params values\" generated from `GT_2_gen_uniq_params.ipynb`\n",
    "# 1. Preparations\n",
    "## 1.1 Global"
   ],
   "metadata": {
    "collapsed": false
   }
  },
  {
   "cell_type": "code",
   "execution_count": 49,
   "outputs": [],
   "source": [
    "\n",
    "ARTIFICIAL = False           # Whether to use synthetic dataset.\n",
    "\n",
    "seed = 3\n",
    "noise_pct = 0.05\n",
    "\n",
    "# auction config\n",
    "settings_NN_path = r\"../data/target_datakey_all.csv\"\n",
    "\n",
    "# inferred params\n",
    "if ARTIFICIAL:\n",
    "    params_opitim_path =  r\"../../data/SA_PT/params_artificial_v2_noise=\" + str(noise_pct)+\"_seed=\" + str(seed) + \".csv\"\n",
    "else:\n",
    "    params_opitim_path = \"../../data/SA_PT/params_seed=\"+str(seed)+\".csv\"\n",
    "\n",
    "\n",
    "unique_setting_NN = ['desc','bidincrement','bidfee','retail','flg_endprice']\n",
    "LEN = 300\n",
    "\n",
    "# output path\n",
    "if ARTIFICIAL:\n",
    "    filename_P = r\"../../data/SA_PT/results/GT_2_artificial_SA_LEN=\" +str(LEN) +\"_noise=\"+str(noise_pct)+\"_seed=\"+str(seed)+ \".csv\"\n",
    "else:\n",
    "    filename_P = r\"../../data/SA_PT/results/GT_2_NN_LEN=300_seed=\"+str(seed)+ \".csv\"\n",
    "\n",
    "import pandas as pd\n",
    "from SA_for_GT2_funcs import *\n",
    "from tqdm import tqdm"
   ],
   "metadata": {
    "collapsed": false
   }
  },
  {
   "cell_type": "markdown",
   "source": [
    "## 1.2 Read in data\n"
   ],
   "metadata": {
    "collapsed": false
   }
  },
  {
   "cell_type": "code",
   "execution_count": 50,
   "outputs": [],
   "source": [
    "data_key = pd.read_csv(settings_NN_path, encoding=\"utf-8\")\n",
    "\n",
    "params_all = pd.read_csv(params_opitim_path, encoding=\"utf-8\")\n",
    "\n",
    "LEN_KEY= data_key.shape[0]"
   ],
   "metadata": {
    "collapsed": false
   }
  },
  {
   "cell_type": "markdown",
   "source": [
    "# 2. U & P\n",
    "## 2.1 Generate according to GT2\n",
    "\n",
    "1. There is $n \\leq T $\n",
    "2. `U[i][0]` is initialized as 1 for convenience .\n",
    "3. `U[i][j]` means：\n",
    "> The probability that somebody makes the jth bid (given that j − 1 previous bids have been made)\n",
    "4. `P` is the final output. `P[i]` represents the probability that auction ends at `duration=i+1`\n"
   ],
   "metadata": {
    "collapsed": false
   }
  },
  {
   "cell_type": "code",
   "execution_count": 51,
   "outputs": [
    {
     "data": {
      "text/plain": "Empty DataFrame\nColumns: [0, 1, 2, 3, 4, 5, 6, 7, 8, 9, 10, 11, 12, 13, 14, 15, 16, 17, 18, 19, 20, 21, 22, 23, 24, 25, 26, 27, 28, 29, 30, 31, 32, 33, 34, 35, 36, 37, 38, 39, 40, 41, 42, 43, 44, 45, 46, 47, 48, 49, 50, 51, 52, 53, 54, 55, 56, 57, 58, 59, 60, 61, 62, 63, 64, 65, 66, 67, 68, 69, 70, 71, 72, 73, 74, 75, 76, 77, 78, 79, 80, 81, 82, 83, 84, 85, 86, 87, 88, 89, 90, 91, 92, 93, 94, 95, 96, 97, 98, 99, ...]\nIndex: []\n\n[0 rows x 300 columns]",
      "text/html": "<div>\n<style scoped>\n    .dataframe tbody tr th:only-of-type {\n        vertical-align: middle;\n    }\n\n    .dataframe tbody tr th {\n        vertical-align: top;\n    }\n\n    .dataframe thead th {\n        text-align: right;\n    }\n</style>\n<table border=\"1\" class=\"dataframe\">\n  <thead>\n    <tr style=\"text-align: right;\">\n      <th></th>\n      <th>0</th>\n      <th>1</th>\n      <th>2</th>\n      <th>3</th>\n      <th>4</th>\n      <th>5</th>\n      <th>6</th>\n      <th>7</th>\n      <th>8</th>\n      <th>9</th>\n      <th>...</th>\n      <th>290</th>\n      <th>291</th>\n      <th>292</th>\n      <th>293</th>\n      <th>294</th>\n      <th>295</th>\n      <th>296</th>\n      <th>297</th>\n      <th>298</th>\n      <th>299</th>\n    </tr>\n  </thead>\n  <tbody>\n  </tbody>\n</table>\n<p>0 rows × 300 columns</p>\n</div>"
     },
     "execution_count": 51,
     "metadata": {},
     "output_type": "execute_result"
    }
   ],
   "source": [
    "col_names = []\n",
    "tmp = np.arange(0,LEN)\n",
    "tmp_str = [str(x) for x in tmp]\n",
    "col_names.extend(tmp_str)\n",
    "\n",
    "P_df = pd.DataFrame(columns=col_names)\n",
    "\n",
    "P_df"
   ],
   "metadata": {
    "collapsed": false
   }
  },
  {
   "cell_type": "code",
   "execution_count": 52,
   "outputs": [
    {
     "name": "stderr",
     "output_type": "stream",
     "text": [
      "100%|██████████| 1276/1276 [00:03<00:00, 328.00it/s]"
     ]
    },
    {
     "name": "stdout",
     "output_type": "stream",
     "text": [
      "Done\n"
     ]
    },
    {
     "name": "stderr",
     "output_type": "stream",
     "text": [
      "\n"
     ]
    }
   ],
   "source": [
    "# solve for U & P\n",
    "for i in tqdm(range(LEN_KEY)):\n",
    "\n",
    "    # Get params\n",
    "    v = float(data_key.iloc[i,3])\n",
    "    d = float(data_key.iloc[i,1])\n",
    "    b = float(data_key.iloc[i,2])\n",
    "    params = params_all.iloc[i,:]\n",
    "\n",
    "    alpha = params[0].item()\n",
    "    labda = params[1].item()\n",
    "\n",
    "    # d==0 suggests a fixed-price auction\n",
    "    if d == 0:\n",
    "        T = np.inf                                    # duration limitation\n",
    "    else:\n",
    "        T = np.floor((v-b)/d)                         # duration limitation\n",
    "\n",
    "    if T >= LEN:\n",
    "        U = get_U_GT2(LEN,v, d, b, alpha, labda,eps = 0.)\n",
    "    elif T < LEN:\n",
    "        U = [0] * (LEN + 2)                     # the prob. that someone offers a bid in t_th round\n",
    "        U[0],U[1] = 1,1\n",
    "        for t in range(2,len(U)):\n",
    "            if(t <= T):\n",
    "                U[t] = f_Equi(t, v, d, b, alpha, labda)\n",
    "            else:\n",
    "                U[t] = 0\n",
    "            assert U[t]>=0, \"U[t]<0! when t ={},and b = {},v = {}, d = {}\".format(t,b,v,d)\n",
    "            assert U[t]<=1, \"U[t]>1! when t ={},and b = {},v = {}, d = {}\".format(t,b,v,d)\n",
    "\n",
    "    # Solve for P with length of LEN\n",
    "    P = get_P(U,LEN)\n",
    "\n",
    "    # P[i][t] = U[i][1]*U[i][2]*...*(1-U[i][t+1])\n",
    "    assert len(P)==LEN,\"P has wrong length (should be LEN)\"\n",
    "\n",
    "\n",
    "    # Concat with dataframe\n",
    "    pd_tmp = pd.DataFrame(P).T\n",
    "    pd_tmp.columns = col_names\n",
    "    P_df = pd.concat([P_df,pd_tmp],ignore_index=True)\n",
    "\n",
    "print(\"Done\")\n"
   ],
   "metadata": {
    "collapsed": false
   }
  },
  {
   "cell_type": "markdown",
   "source": [
    "# 3. save"
   ],
   "metadata": {
    "collapsed": false
   }
  },
  {
   "cell_type": "code",
   "execution_count": 53,
   "outputs": [
    {
     "data": {
      "text/plain": "'../../data/SA_PT/results/GT_2_artificial_SA_LEN=300_noise=0.05_seed=4.csv'"
     },
     "execution_count": 53,
     "metadata": {},
     "output_type": "execute_result"
    }
   ],
   "source": [
    "filename_P"
   ],
   "metadata": {
    "collapsed": false
   }
  },
  {
   "cell_type": "code",
   "execution_count": 54,
   "outputs": [
    {
     "name": "stdout",
     "output_type": "stream",
     "text": [
      "DONE\n"
     ]
    }
   ],
   "source": [
    "P_df.to_csv(filename_P,header=True,index=False,encoding=\"utf-8\")\n",
    "print(\"DONE\")"
   ],
   "metadata": {
    "collapsed": false
   }
  }
 ],
 "metadata": {
  "kernelspec": {
   "display_name": "Python 3",
   "language": "python",
   "name": "python3"
  },
  "language_info": {
   "codemirror_mode": {
    "name": "ipython",
    "version": 2
   },
   "file_extension": ".py",
   "mimetype": "text/x-python",
   "name": "python",
   "nbconvert_exporter": "python",
   "pygments_lexer": "ipython2",
   "version": "2.7.6"
  }
 },
 "nbformat": 4,
 "nbformat_minor": 0
}
